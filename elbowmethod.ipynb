{
 "cells": [
  {
   "cell_type": "markdown",
   "metadata": {},
   "source": [
    "# USING THE ELBOW METHOD TO FIND THE OPTIMAL NUMBER OF CLUSTERS FOR K-MEANS CLUSTERING"
   ]
  },
  {
   "cell_type": "markdown",
   "metadata": {},
   "source": [
    "K-means clustering is an unsupervised machine learning technique used to cluster similar groups of data points. It is also known as Lloyd's algorithm. The process is as follows:\n",
    "1. Initialisation: Generate K randomly-placed centroids (also known as cluster-centers, or means)\n",
    "2. Assignment: Assign each data point to the centroid to which it has the smallest euclidean distance\n",
    "3. Update: Update the centroids to be the mean of each cluster\n",
    "4. Repeat steps 1-3 until convergence"
   ]
  },
  {
   "cell_type": "markdown",
   "metadata": {},
   "source": [
    "We will be using packages from numpy, scikit-learn, and matplotlib:"
   ]
  },
  {
   "cell_type": "code",
   "execution_count": 166,
   "metadata": {},
   "outputs": [],
   "source": [
    "#We use a numpy array for the k-means clustering, but we will be printing sections of the data using Pandas dataframes,\n",
    "#as the display format is much cleaner and more intuitive\n",
    "import numpy as np\n",
    "import pandas as pd\n",
    "from sklearn.cluster import KMeans\n",
    "import matplotlib.pyplot as plt"
   ]
  },
  {
   "cell_type": "markdown",
   "metadata": {},
   "source": [
    "We create a random two dimensional array with two obvious clusters. We want to be able to use an algorithm to evaluate the optimal number of clusters for k-means clustering. If this algorithm is successful, it should return 2 as the optimal k."
   ]
  },
  {
   "cell_type": "code",
   "execution_count": 125,
   "metadata": {},
   "outputs": [
    {
     "data": {
      "text/plain": [
       "(50, 2)"
      ]
     },
     "execution_count": 125,
     "metadata": {},
     "output_type": "execute_result"
    }
   ],
   "source": [
    "data = []\n",
    "#We create 2 clusters in the bottom-left and top-right corners respectively:\n",
    "for x in range(25):\n",
    "    data.append([np.random.randint(0,40), np.random.randint(0,40)])\n",
    "for x in range(25):\n",
    "    data.append([np.random.randint(60,100), np.random.randint(60,100)])\n",
    "#We use numpy to turn the list of lists into a two-dimensional array:\n",
    "data = np.array(data)\n",
    "pd.DataFrame(data).shape"
   ]
  },
  {
   "cell_type": "markdown",
   "metadata": {},
   "source": [
    "As we can see, the data has 50 rows of two columns, consistent with us adding 50 pieces of data each with two values"
   ]
  },
  {
   "cell_type": "code",
   "execution_count": 177,
   "metadata": {},
   "outputs": [
    {
     "data": {
      "text/html": [
       "<div>\n",
       "<style>\n",
       "    .dataframe thead tr:only-child th {\n",
       "        text-align: right;\n",
       "    }\n",
       "\n",
       "    .dataframe thead th {\n",
       "        text-align: left;\n",
       "    }\n",
       "\n",
       "    .dataframe tbody tr th {\n",
       "        vertical-align: top;\n",
       "    }\n",
       "</style>\n",
       "<table border=\"1\" class=\"dataframe\">\n",
       "  <thead>\n",
       "    <tr style=\"text-align: right;\">\n",
       "      <th></th>\n",
       "      <th>Variable 1</th>\n",
       "      <th>Variable 2</th>\n",
       "    </tr>\n",
       "  </thead>\n",
       "  <tbody>\n",
       "    <tr>\n",
       "      <th>0</th>\n",
       "      <td>17</td>\n",
       "      <td>29</td>\n",
       "    </tr>\n",
       "    <tr>\n",
       "      <th>1</th>\n",
       "      <td>25</td>\n",
       "      <td>15</td>\n",
       "    </tr>\n",
       "    <tr>\n",
       "      <th>2</th>\n",
       "      <td>12</td>\n",
       "      <td>3</td>\n",
       "    </tr>\n",
       "    <tr>\n",
       "      <th>3</th>\n",
       "      <td>14</td>\n",
       "      <td>24</td>\n",
       "    </tr>\n",
       "    <tr>\n",
       "      <th>4</th>\n",
       "      <td>23</td>\n",
       "      <td>28</td>\n",
       "    </tr>\n",
       "  </tbody>\n",
       "</table>\n",
       "</div>"
      ],
      "text/plain": [
       "   Variable 1  Variable 2\n",
       "0          17          29\n",
       "1          25          15\n",
       "2          12           3\n",
       "3          14          24\n",
       "4          23          28"
      ]
     },
     "execution_count": 177,
     "metadata": {},
     "output_type": "execute_result"
    }
   ],
   "source": [
    "pd.DataFrame(data,columns=['Variable 1','Variable 2']).head(5)"
   ]
  },
  {
   "cell_type": "markdown",
   "metadata": {},
   "source": [
    "###### A slice of the data: each row is a data point"
   ]
  },
  {
   "cell_type": "markdown",
   "metadata": {},
   "source": [
    "We then run a for loop to create 9 different k-means models of our data, with the number of cluster (k) ranging from 1 to 9. We also create a list of each model's inertia.For Scikit-Learn, inertia is calculated as the sum of squared distance for each point to it's closest centroid, i.e., its assigned cluster."
   ]
  },
  {
   "cell_type": "markdown",
   "metadata": {},
   "source": [
    "$$I = \\sum_{i}(d(i,cr))$$"
   ]
  },
  {
   "cell_type": "markdown",
   "metadata": {},
   "source": [
    "Where *cr* is the centroid of the assigned cluster and *d* is the squared distance."
   ]
  },
  {
   "cell_type": "markdown",
   "metadata": {},
   "source": [
    "The K-means algorithm aims to choose centroids that minimise the inertia, or within-cluster sum of squared criterion:"
   ]
  },
  {
   "cell_type": "markdown",
   "metadata": {},
   "source": [
    "$$W_k = \\sum_{r=1}^{k}\\frac 1 {(2*n_r) }D_r$$"
   ]
  },
  {
   "cell_type": "code",
   "execution_count": 139,
   "metadata": {},
   "outputs": [
    {
     "data": {
      "image/png": "[encoded data removed]",
      "text/plain": [
       "<matplotlib.figure.Figure at 0x28d491f7b38>"
      ]
     },
     "metadata": {},
     "output_type": "display_data"
    }
   ],
   "source": [
    "plt.figure(figsize=(12,12))\n",
    "inertias = []\n",
    "\n",
    "plt.suptitle('Clustering for k-means of 1 to 9', y=0.93, size=16)\n",
    "\n",
    "for num_clusters in range(1,10):\n",
    "    model = KMeans(n_clusters=num_clusters)\n",
    "    model.fit(data)\n",
    "    inertias.append(model.inertia_)\n",
    "    plt.subplot(3,3,num_clusters, aspect='equal')\n",
    "    plt.scatter(data[:,0],data[:,1], c=model.labels_, cmap='rainbow')\n",
    "    plt.xlabel('data[:,0]')\n",
    "    plt.ylabel('data[:,1]')\n",
    "    plt.title(\"{} clusters\".format(num_clusters))\n",
    "\n",
    "plt.subplots_adjust(hspace=0.35)\n",
    "plt.show()"
   ]
  },
  {
   "cell_type": "markdown",
   "metadata": {},
   "source": [
    "###### (Fig. 1) Representations of the clustering of our data using k-means clustering for models of k=1 to k=9. The first column of our numpy array is plotted on the x-axis, and the second column is plotted on the y-axis."
   ]
  },
  {
   "cell_type": "code",
   "execution_count": 140,
   "metadata": {},
   "outputs": [
    {
     "data": {
      "image/png": "[encoded data removed]",
      "text/plain": [
       "<matplotlib.figure.Figure at 0x28d497bf9e8>"
      ]
     },
     "metadata": {},
     "output_type": "display_data"
    }
   ],
   "source": [
    "plt.plot(range(1,10), inertias, '-o')\n",
    "plt.xlabel('Number of Clusters (k)')\n",
    "plt.ylabel('Inertia')\n",
    "plt.title('Inertia against number of clusters', size=14, y=1.05)\n",
    "plt.show()"
   ]
  },
  {
   "cell_type": "markdown",
   "metadata": {},
   "source": [
    "###### (Fig. 2) The inertia of each model with k clusters."
   ]
  },
  {
   "cell_type": "markdown",
   "metadata": {},
   "source": [
    "We can see from inspection that the rate of decrease of inertia dramatically lessens after the model with 2 clusters. If we choose too low a k, we will underfit, meaning that we won't be able to detect small trends in data. However, if we choose too high a k, our model is then too sensitive to small variations in the data. Finding the optimal k is a balance between these two. Visually, we can represent this as finding the \"elbow\" in a graph of the various models' inertia. Although the elbow on this graph is obvious, it is much less obvious for more complex data where the optimal number of clusters is harder to determine. Thus, we can find an algorithm which will calculate the optimal number of clusters given the inertias of each model to assist us with this."
   ]
  },
  {
   "cell_type": "markdown",
   "metadata": {},
   "source": [
    "## Finding the elbow in the inertia curve"
   ]
  },
  {
   "cell_type": "markdown",
   "metadata": {},
   "source": [
    "We can find the \"elbow\" in the inertia curve by finding the point at which the absolute second derivative is highest. To do this, we will draw a line from the first to the last point of the curve and then find the data point that is farthest away from that line. To visualise the point which is the furthest from this line, we can imagine a line segment extending from each data point to intersect with the line at right angles. The data point for which this line segment is the longest must be the furthest away from the line, and thus must be the elbow in the inertia curve."
   ]
  },
  {
   "cell_type": "code",
   "execution_count": 215,
   "metadata": {},
   "outputs": [],
   "source": [
    "# get coordinates of all the points\n",
    "nPoints = len(inertias)\n",
    "allCoord = np.vstack((range(nPoints), inertias)).T"
   ]
  },
  {
   "cell_type": "markdown",
   "metadata": {},
   "source": [
    "- \"range(nPoints)\" generates an array of numbers from 0 to the number of data points.\n",
    "- \"np.vstack\" vertically stacks this array alongside the array of the inertias, forming a new array with as many columns as there are data points, and two rows.\n",
    "- \".T\" finds the transpose of this array - the array is flipped so the rows are now columns, and the columns are now rows, forming an array with 2 columns, and as many rows as there are columns. We call this new array \"allCoord\". "
   ]
  },
  {
   "cell_type": "code",
   "execution_count": 223,
   "metadata": {},
   "outputs": [
    {
     "data": {
      "text/html": [
       "<div>\n",
       "<style>\n",
       "    .dataframe thead tr:only-child th {\n",
       "        text-align: right;\n",
       "    }\n",
       "\n",
       "    .dataframe thead th {\n",
       "        text-align: left;\n",
       "    }\n",
       "\n",
       "    .dataframe tbody tr th {\n",
       "        vertical-align: top;\n",
       "    }\n",
       "</style>\n",
       "<table border=\"1\" class=\"dataframe\">\n",
       "  <thead>\n",
       "    <tr style=\"text-align: right;\">\n",
       "      <th></th>\n",
       "      <th>Inertia</th>\n",
       "    </tr>\n",
       "  </thead>\n",
       "  <tbody>\n",
       "    <tr>\n",
       "      <th>0</th>\n",
       "      <td>100882.900000</td>\n",
       "    </tr>\n",
       "    <tr>\n",
       "      <th>1</th>\n",
       "      <td>12239.120000</td>\n",
       "    </tr>\n",
       "    <tr>\n",
       "      <th>2</th>\n",
       "      <td>9071.836364</td>\n",
       "    </tr>\n",
       "    <tr>\n",
       "      <th>3</th>\n",
       "      <td>6819.873077</td>\n",
       "    </tr>\n",
       "    <tr>\n",
       "      <th>4</th>\n",
       "      <td>4246.953914</td>\n",
       "    </tr>\n",
       "    <tr>\n",
       "      <th>5</th>\n",
       "      <td>3441.013636</td>\n",
       "    </tr>\n",
       "    <tr>\n",
       "      <th>6</th>\n",
       "      <td>2650.729945</td>\n",
       "    </tr>\n",
       "    <tr>\n",
       "      <th>7</th>\n",
       "      <td>2184.983333</td>\n",
       "    </tr>\n",
       "    <tr>\n",
       "      <th>8</th>\n",
       "      <td>1796.585714</td>\n",
       "    </tr>\n",
       "  </tbody>\n",
       "</table>\n",
       "</div>"
      ],
      "text/plain": [
       "         Inertia\n",
       "0  100882.900000\n",
       "1   12239.120000\n",
       "2    9071.836364\n",
       "3    6819.873077\n",
       "4    4246.953914\n",
       "5    3441.013636\n",
       "6    2650.729945\n",
       "7    2184.983333\n",
       "8    1796.585714"
      ]
     },
     "metadata": {},
     "output_type": "display_data"
    },
    {
     "name": "stdout",
     "output_type": "stream",
     "text": [
      "Inertias\n"
     ]
    },
    {
     "data": {
      "text/html": [
       "<div>\n",
       "<style>\n",
       "    .dataframe thead tr:only-child th {\n",
       "        text-align: right;\n",
       "    }\n",
       "\n",
       "    .dataframe thead th {\n",
       "        text-align: left;\n",
       "    }\n",
       "\n",
       "    .dataframe tbody tr th {\n",
       "        vertical-align: top;\n",
       "    }\n",
       "</style>\n",
       "<table border=\"1\" class=\"dataframe\">\n",
       "  <thead>\n",
       "    <tr style=\"text-align: right;\">\n",
       "      <th></th>\n",
       "      <th>0</th>\n",
       "      <th>1</th>\n",
       "      <th>2</th>\n",
       "      <th>3</th>\n",
       "      <th>4</th>\n",
       "      <th>5</th>\n",
       "      <th>6</th>\n",
       "      <th>7</th>\n",
       "      <th>8</th>\n",
       "    </tr>\n",
       "  </thead>\n",
       "  <tbody>\n",
       "    <tr>\n",
       "      <th>Data point</th>\n",
       "      <td>0.0</td>\n",
       "      <td>1.00</td>\n",
       "      <td>2.000000</td>\n",
       "      <td>3.000000</td>\n",
       "      <td>4.000000</td>\n",
       "      <td>5.000000</td>\n",
       "      <td>6.000000</td>\n",
       "      <td>7.000000</td>\n",
       "      <td>8.000000</td>\n",
       "    </tr>\n",
       "    <tr>\n",
       "      <th>Inertia</th>\n",
       "      <td>100882.9</td>\n",
       "      <td>12239.12</td>\n",
       "      <td>9071.836364</td>\n",
       "      <td>6819.873077</td>\n",
       "      <td>4246.953914</td>\n",
       "      <td>3441.013636</td>\n",
       "      <td>2650.729945</td>\n",
       "      <td>2184.983333</td>\n",
       "      <td>1796.585714</td>\n",
       "    </tr>\n",
       "  </tbody>\n",
       "</table>\n",
       "</div>"
      ],
      "text/plain": [
       "                   0         1            2            3            4  \\\n",
       "Data point       0.0      1.00     2.000000     3.000000     4.000000   \n",
       "Inertia     100882.9  12239.12  9071.836364  6819.873077  4246.953914   \n",
       "\n",
       "                      5            6            7            8  \n",
       "Data point     5.000000     6.000000     7.000000     8.000000  \n",
       "Inertia     3441.013636  2650.729945  2184.983333  1796.585714  "
      ]
     },
     "metadata": {},
     "output_type": "display_data"
    },
    {
     "name": "stdout",
     "output_type": "stream",
     "text": [
      "np.vstack((range(nPoints), inertias))\n"
     ]
    },
    {
     "data": {
      "text/html": [
       "<div>\n",
       "<style>\n",
       "    .dataframe thead tr:only-child th {\n",
       "        text-align: right;\n",
       "    }\n",
       "\n",
       "    .dataframe thead th {\n",
       "        text-align: left;\n",
       "    }\n",
       "\n",
       "    .dataframe tbody tr th {\n",
       "        vertical-align: top;\n",
       "    }\n",
       "</style>\n",
       "<table border=\"1\" class=\"dataframe\">\n",
       "  <thead>\n",
       "    <tr style=\"text-align: right;\">\n",
       "      <th></th>\n",
       "      <th>Data point</th>\n",
       "      <th>Inertia</th>\n",
       "    </tr>\n",
       "  </thead>\n",
       "  <tbody>\n",
       "    <tr>\n",
       "      <th>0</th>\n",
       "      <td>0.0</td>\n",
       "      <td>100882.900000</td>\n",
       "    </tr>\n",
       "    <tr>\n",
       "      <th>1</th>\n",
       "      <td>1.0</td>\n",
       "      <td>12239.120000</td>\n",
       "    </tr>\n",
       "    <tr>\n",
       "      <th>2</th>\n",
       "      <td>2.0</td>\n",
       "      <td>9071.836364</td>\n",
       "    </tr>\n",
       "    <tr>\n",
       "      <th>3</th>\n",
       "      <td>3.0</td>\n",
       "      <td>6819.873077</td>\n",
       "    </tr>\n",
       "    <tr>\n",
       "      <th>4</th>\n",
       "      <td>4.0</td>\n",
       "      <td>4246.953914</td>\n",
       "    </tr>\n",
       "    <tr>\n",
       "      <th>5</th>\n",
       "      <td>5.0</td>\n",
       "      <td>3441.013636</td>\n",
       "    </tr>\n",
       "    <tr>\n",
       "      <th>6</th>\n",
       "      <td>6.0</td>\n",
       "      <td>2650.729945</td>\n",
       "    </tr>\n",
       "    <tr>\n",
       "      <th>7</th>\n",
       "      <td>7.0</td>\n",
       "      <td>2184.983333</td>\n",
       "    </tr>\n",
       "    <tr>\n",
       "      <th>8</th>\n",
       "      <td>8.0</td>\n",
       "      <td>1796.585714</td>\n",
       "    </tr>\n",
       "  </tbody>\n",
       "</table>\n",
       "</div>"
      ],
      "text/plain": [
       "   Data point        Inertia\n",
       "0         0.0  100882.900000\n",
       "1         1.0   12239.120000\n",
       "2         2.0    9071.836364\n",
       "3         3.0    6819.873077\n",
       "4         4.0    4246.953914\n",
       "5         5.0    3441.013636\n",
       "6         6.0    2650.729945\n",
       "7         7.0    2184.983333\n",
       "8         8.0    1796.585714"
      ]
     },
     "metadata": {},
     "output_type": "display_data"
    },
    {
     "name": "stdout",
     "output_type": "stream",
     "text": [
      "'allCoord': np.vstack((range(nPoints), inertias)).T\n"
     ]
    }
   ],
   "source": [
    "display(pd.DataFrame(inertias, columns=['Inertia']))\n",
    "print(\"Inertias\")\n",
    "display(pd.DataFrame(np.vstack((range(nPoints), inertias)), index=['Data point','Inertia']))\n",
    "print(\"np.vstack((range(nPoints), inertias))\")\n",
    "display(pd.DataFrame(allCoord, columns=['Data point', 'Inertia']))\n",
    "print(\"'allCoord': np.vstack((range(nPoints), inertias)).T\")"
   ]
  },
  {
   "cell_type": "code",
   "execution_count": 184,
   "metadata": {},
   "outputs": [],
   "source": [
    "# get vector between first and last point - this is the line\n",
    "lineVec = allCoord[-1] - allCoord[0]\n",
    "# normalize the line vector\n",
    "lineVecNorm = lineVec / np.sqrt(np.sum(lineVec**2))"
   ]
  },
  {
   "cell_type": "markdown",
   "metadata": {},
   "source": [
    "We find the vector of the line from the first point to the last point by subtracting the coordinate of the first point from the coordinate of the last point. We normalize the line vector which sets the inertia to a value of magnitude 1 (thus a unit vector), and scales the value of the data point column proportionately. This prevents the very large values of inertia from skewering our calculations."
   ]
  },
  {
   "cell_type": "code",
   "execution_count": 212,
   "metadata": {},
   "outputs": [
    {
     "data": {
      "text/html": [
       "<div>\n",
       "<style>\n",
       "    .dataframe thead tr:only-child th {\n",
       "        text-align: right;\n",
       "    }\n",
       "\n",
       "    .dataframe thead th {\n",
       "        text-align: left;\n",
       "    }\n",
       "\n",
       "    .dataframe tbody tr th {\n",
       "        vertical-align: top;\n",
       "    }\n",
       "</style>\n",
       "<table border=\"1\" class=\"dataframe\">\n",
       "  <thead>\n",
       "    <tr style=\"text-align: right;\">\n",
       "      <th></th>\n",
       "      <th>Data point</th>\n",
       "      <th>Inertia</th>\n",
       "    </tr>\n",
       "  </thead>\n",
       "  <tbody>\n",
       "    <tr>\n",
       "      <th>0</th>\n",
       "      <td>8.0</td>\n",
       "      <td>-105882.065952</td>\n",
       "    </tr>\n",
       "  </tbody>\n",
       "</table>\n",
       "</div>"
      ],
      "text/plain": [
       "   Data point        Inertia\n",
       "0         8.0 -105882.065952"
      ]
     },
     "metadata": {},
     "output_type": "display_data"
    },
    {
     "name": "stdout",
     "output_type": "stream",
     "text": [
      "lineVec\n"
     ]
    },
    {
     "data": {
      "text/html": [
       "<div>\n",
       "<style>\n",
       "    .dataframe thead tr:only-child th {\n",
       "        text-align: right;\n",
       "    }\n",
       "\n",
       "    .dataframe thead th {\n",
       "        text-align: left;\n",
       "    }\n",
       "\n",
       "    .dataframe tbody tr th {\n",
       "        vertical-align: top;\n",
       "    }\n",
       "</style>\n",
       "<table border=\"1\" class=\"dataframe\">\n",
       "  <thead>\n",
       "    <tr style=\"text-align: right;\">\n",
       "      <th></th>\n",
       "      <th>Data point</th>\n",
       "      <th>Inertia</th>\n",
       "    </tr>\n",
       "  </thead>\n",
       "  <tbody>\n",
       "    <tr>\n",
       "      <th>0</th>\n",
       "      <td>0.000076</td>\n",
       "      <td>-1.0</td>\n",
       "    </tr>\n",
       "  </tbody>\n",
       "</table>\n",
       "</div>"
      ],
      "text/plain": [
       "   Data point  Inertia\n",
       "0    0.000076     -1.0"
      ]
     },
     "metadata": {},
     "output_type": "display_data"
    },
    {
     "name": "stdout",
     "output_type": "stream",
     "text": [
      "lineVecNorm\n"
     ]
    }
   ],
   "source": [
    "display(pd.DataFrame(lineVec, index=['Data point', 'Inertia']).T)\n",
    "print(\"lineVec\")\n",
    "display(pd.DataFrame(lineVecNorm, index=['Data point', 'Inertia']).T)\n",
    "print(\"lineVecNorm\")"
   ]
  },
  {
   "cell_type": "code",
   "execution_count": 216,
   "metadata": {},
   "outputs": [],
   "source": [
    "# pull out first point\n",
    "firstPoint = allCoord[0]\n",
    "\n",
    "# vector between all points and first point\n",
    "vecFromFirst = allCoord - firstPoint"
   ]
  },
  {
   "cell_type": "markdown",
   "metadata": {},
   "source": [
    "We find the vector from the first point to each of the individual points by subtracting the value of the first point from each element in our array of all the coordinates of the points. This means that the first point has a zero value for inertia."
   ]
  },
  {
   "cell_type": "code",
   "execution_count": 218,
   "metadata": {},
   "outputs": [
    {
     "data": {
      "text/html": [
       "<div>\n",
       "<style>\n",
       "    .dataframe thead tr:only-child th {\n",
       "        text-align: right;\n",
       "    }\n",
       "\n",
       "    .dataframe thead th {\n",
       "        text-align: left;\n",
       "    }\n",
       "\n",
       "    .dataframe tbody tr th {\n",
       "        vertical-align: top;\n",
       "    }\n",
       "</style>\n",
       "<table border=\"1\" class=\"dataframe\">\n",
       "  <thead>\n",
       "    <tr style=\"text-align: right;\">\n",
       "      <th></th>\n",
       "      <th>Data point</th>\n",
       "      <th>Inertia</th>\n",
       "    </tr>\n",
       "  </thead>\n",
       "  <tbody>\n",
       "    <tr>\n",
       "      <th>0</th>\n",
       "      <td>0.0</td>\n",
       "      <td>0.000000</td>\n",
       "    </tr>\n",
       "    <tr>\n",
       "      <th>1</th>\n",
       "      <td>1.0</td>\n",
       "      <td>-88643.780000</td>\n",
       "    </tr>\n",
       "    <tr>\n",
       "      <th>2</th>\n",
       "      <td>2.0</td>\n",
       "      <td>-91811.063636</td>\n",
       "    </tr>\n",
       "    <tr>\n",
       "      <th>3</th>\n",
       "      <td>3.0</td>\n",
       "      <td>-94063.026923</td>\n",
       "    </tr>\n",
       "    <tr>\n",
       "      <th>4</th>\n",
       "      <td>4.0</td>\n",
       "      <td>-96635.946086</td>\n",
       "    </tr>\n",
       "    <tr>\n",
       "      <th>5</th>\n",
       "      <td>5.0</td>\n",
       "      <td>-97441.886364</td>\n",
       "    </tr>\n",
       "    <tr>\n",
       "      <th>6</th>\n",
       "      <td>6.0</td>\n",
       "      <td>-98232.170055</td>\n",
       "    </tr>\n",
       "    <tr>\n",
       "      <th>7</th>\n",
       "      <td>7.0</td>\n",
       "      <td>-98697.916667</td>\n",
       "    </tr>\n",
       "    <tr>\n",
       "      <th>8</th>\n",
       "      <td>8.0</td>\n",
       "      <td>-99086.314286</td>\n",
       "    </tr>\n",
       "  </tbody>\n",
       "</table>\n",
       "</div>"
      ],
      "text/plain": [
       "   Data point       Inertia\n",
       "0         0.0      0.000000\n",
       "1         1.0 -88643.780000\n",
       "2         2.0 -91811.063636\n",
       "3         3.0 -94063.026923\n",
       "4         4.0 -96635.946086\n",
       "5         5.0 -97441.886364\n",
       "6         6.0 -98232.170055\n",
       "7         7.0 -98697.916667\n",
       "8         8.0 -99086.314286"
      ]
     },
     "metadata": {},
     "output_type": "display_data"
    },
    {
     "name": "stdout",
     "output_type": "stream",
     "text": [
      "vecFromFirst\n"
     ]
    }
   ],
   "source": [
    "display(pd.DataFrame(vecFromFirst, columns=['Data point', 'Inertia']))\n",
    "print(\"vecFromFirst\")"
   ]
  },
  {
   "cell_type": "code",
   "execution_count": 221,
   "metadata": {},
   "outputs": [],
   "source": [
    "scalarProduct = np.sum(vecFromFirst * np.matlib.repmat(lineVecNorm, nPoints, 1), axis=1)\n",
    "vecFromFirstParallel = np.outer(scalarProduct, lineVecNorm)\n",
    "vecToLine = vecFromFirst - vecFromFirstParallel"
   ]
  },
  {
   "cell_type": "markdown",
   "metadata": {},
   "source": [
    "To calculate the distance to the line, we split vecFromFirst into two components, one that is parallel to the line and one that is perpendicular. Then, we take the norm of the part that is perpendicular to the line and get the distance. We find the vector parallel to the line by projecting vecFromFirst onto the line. The perpendicular vector is vecFromFirst - vecFromFirstParallel. We project vecFromFirst by taking the scalar product of the vector with the unit vector that points in the direction of the line (this gives us the length of the projection of vecFromFirst onto the line). If we multiply the scalar product by the unit vector, we have vecFromFirstParallel.\n",
    "- 'np.matlib.repmat(a,m,n)' repeats a given array 0-D to 2-D array or matrix 'a' MxN times. In this case we specify m to be 1, so we produce an array with nPoints number of rows, each containing the lineVecNorm array repeated once.\n",
    "- 'np.sum()' sums array elements over a given axis. In this case we specify axis=1, so we sum all elements of the first dimension, ie. array[0,:] + array[1,:] + ... This essentially performs a summation of each row of the target array.\n",
    "- 'np.outer()' computes the outer product of two vectors. Given two vectors a = [a0, a1, ..., aM], and b = [b0, b1, ..., bN], the outer product is [[a0xb0  a0xb1 ... a0xbN][a1xb0  a1xb1 ... a1xbN]...]\n",
    "- The vector from the first data point to the nth data point (vecFromFirst), the vector from the first data point to the point on the line perpendicular to the nth point (vecFromFirstParallel), and the vector from the nth point to the point on the line perpendicular to the nth point form a vector triangle, so we can subtract vecFromFirstParallel from vecFromFirst to find the vector from the nth point to the point on the line perpendicular to the nth point."
   ]
  },
  {
   "cell_type": "code",
   "execution_count": 233,
   "metadata": {},
   "outputs": [
    {
     "data": {
      "text/html": [
       "<div>\n",
       "<style>\n",
       "    .dataframe thead tr:only-child th {\n",
       "        text-align: right;\n",
       "    }\n",
       "\n",
       "    .dataframe thead th {\n",
       "        text-align: left;\n",
       "    }\n",
       "\n",
       "    .dataframe tbody tr th {\n",
       "        vertical-align: top;\n",
       "    }\n",
       "</style>\n",
       "<table border=\"1\" class=\"dataframe\">\n",
       "  <thead>\n",
       "    <tr style=\"text-align: right;\">\n",
       "      <th></th>\n",
       "      <th>0</th>\n",
       "      <th>1</th>\n",
       "    </tr>\n",
       "  </thead>\n",
       "  <tbody>\n",
       "    <tr>\n",
       "      <th>0</th>\n",
       "      <td>0.000076</td>\n",
       "      <td>-1.0</td>\n",
       "    </tr>\n",
       "    <tr>\n",
       "      <th>1</th>\n",
       "      <td>0.000076</td>\n",
       "      <td>-1.0</td>\n",
       "    </tr>\n",
       "    <tr>\n",
       "      <th>2</th>\n",
       "      <td>0.000076</td>\n",
       "      <td>-1.0</td>\n",
       "    </tr>\n",
       "    <tr>\n",
       "      <th>3</th>\n",
       "      <td>0.000076</td>\n",
       "      <td>-1.0</td>\n",
       "    </tr>\n",
       "    <tr>\n",
       "      <th>4</th>\n",
       "      <td>0.000076</td>\n",
       "      <td>-1.0</td>\n",
       "    </tr>\n",
       "    <tr>\n",
       "      <th>5</th>\n",
       "      <td>0.000076</td>\n",
       "      <td>-1.0</td>\n",
       "    </tr>\n",
       "    <tr>\n",
       "      <th>6</th>\n",
       "      <td>0.000076</td>\n",
       "      <td>-1.0</td>\n",
       "    </tr>\n",
       "    <tr>\n",
       "      <th>7</th>\n",
       "      <td>0.000076</td>\n",
       "      <td>-1.0</td>\n",
       "    </tr>\n",
       "    <tr>\n",
       "      <th>8</th>\n",
       "      <td>0.000076</td>\n",
       "      <td>-1.0</td>\n",
       "    </tr>\n",
       "  </tbody>\n",
       "</table>\n",
       "</div>"
      ],
      "text/plain": [
       "          0    1\n",
       "0  0.000076 -1.0\n",
       "1  0.000076 -1.0\n",
       "2  0.000076 -1.0\n",
       "3  0.000076 -1.0\n",
       "4  0.000076 -1.0\n",
       "5  0.000076 -1.0\n",
       "6  0.000076 -1.0\n",
       "7  0.000076 -1.0\n",
       "8  0.000076 -1.0"
      ]
     },
     "metadata": {},
     "output_type": "display_data"
    },
    {
     "name": "stdout",
     "output_type": "stream",
     "text": [
      "np.matlib.repmat(lineVecNorm, nPoints, 1)\n"
     ]
    },
    {
     "data": {
      "text/html": [
       "<div>\n",
       "<style>\n",
       "    .dataframe thead tr:only-child th {\n",
       "        text-align: right;\n",
       "    }\n",
       "\n",
       "    .dataframe thead th {\n",
       "        text-align: left;\n",
       "    }\n",
       "\n",
       "    .dataframe tbody tr th {\n",
       "        vertical-align: top;\n",
       "    }\n",
       "</style>\n",
       "<table border=\"1\" class=\"dataframe\">\n",
       "  <thead>\n",
       "    <tr style=\"text-align: right;\">\n",
       "      <th></th>\n",
       "      <th>0</th>\n",
       "    </tr>\n",
       "  </thead>\n",
       "  <tbody>\n",
       "    <tr>\n",
       "      <th>0</th>\n",
       "      <td>0.000000</td>\n",
       "    </tr>\n",
       "    <tr>\n",
       "      <th>1</th>\n",
       "      <td>88643.779823</td>\n",
       "    </tr>\n",
       "    <tr>\n",
       "      <th>2</th>\n",
       "      <td>91811.063525</td>\n",
       "    </tr>\n",
       "    <tr>\n",
       "      <th>3</th>\n",
       "      <td>94063.026881</td>\n",
       "    </tr>\n",
       "    <tr>\n",
       "      <th>4</th>\n",
       "      <td>96635.946112</td>\n",
       "    </tr>\n",
       "    <tr>\n",
       "      <th>5</th>\n",
       "      <td>97441.886463</td>\n",
       "    </tr>\n",
       "    <tr>\n",
       "      <th>6</th>\n",
       "      <td>98232.170228</td>\n",
       "    </tr>\n",
       "    <tr>\n",
       "      <th>7</th>\n",
       "      <td>98697.916914</td>\n",
       "    </tr>\n",
       "    <tr>\n",
       "      <th>8</th>\n",
       "      <td>99086.314607</td>\n",
       "    </tr>\n",
       "  </tbody>\n",
       "</table>\n",
       "</div>"
      ],
      "text/plain": [
       "              0\n",
       "0      0.000000\n",
       "1  88643.779823\n",
       "2  91811.063525\n",
       "3  94063.026881\n",
       "4  96635.946112\n",
       "5  97441.886463\n",
       "6  98232.170228\n",
       "7  98697.916914\n",
       "8  99086.314607"
      ]
     },
     "metadata": {},
     "output_type": "display_data"
    },
    {
     "name": "stdout",
     "output_type": "stream",
     "text": [
      "scalarProduct: np.sum(vecFromFirst * np.matlib.repmat(lineVecNorm, nPoints, 1), axis=1)\n"
     ]
    }
   ],
   "source": [
    "display(pd.DataFrame(np.matlib.repmat(lineVecNorm, nPoints, 1)))\n",
    "print('np.matlib.repmat(lineVecNorm, nPoints, 1)')\n",
    "display(pd.DataFrame(scalarProduct))\n",
    "print('scalarProduct: np.sum(vecFromFirst * np.matlib.repmat(lineVecNorm, nPoints, 1), axis=1)')"
   ]
  },
  {
   "cell_type": "code",
   "execution_count": 228,
   "metadata": {},
   "outputs": [
    {
     "data": {
      "text/html": [
       "<div>\n",
       "<style>\n",
       "    .dataframe thead tr:only-child th {\n",
       "        text-align: right;\n",
       "    }\n",
       "\n",
       "    .dataframe thead th {\n",
       "        text-align: left;\n",
       "    }\n",
       "\n",
       "    .dataframe tbody tr th {\n",
       "        vertical-align: top;\n",
       "    }\n",
       "</style>\n",
       "<table border=\"1\" class=\"dataframe\">\n",
       "  <thead>\n",
       "    <tr style=\"text-align: right;\">\n",
       "      <th></th>\n",
       "      <th>0</th>\n",
       "      <th>1</th>\n",
       "    </tr>\n",
       "  </thead>\n",
       "  <tbody>\n",
       "    <tr>\n",
       "      <th>0</th>\n",
       "      <td>0.000000</td>\n",
       "      <td>-0.000000</td>\n",
       "    </tr>\n",
       "    <tr>\n",
       "      <th>1</th>\n",
       "      <td>6.697548</td>\n",
       "      <td>-88643.779570</td>\n",
       "    </tr>\n",
       "    <tr>\n",
       "      <th>2</th>\n",
       "      <td>6.936855</td>\n",
       "      <td>-91811.063263</td>\n",
       "    </tr>\n",
       "    <tr>\n",
       "      <th>3</th>\n",
       "      <td>7.107003</td>\n",
       "      <td>-94063.026613</td>\n",
       "    </tr>\n",
       "    <tr>\n",
       "      <th>4</th>\n",
       "      <td>7.301402</td>\n",
       "      <td>-96635.945836</td>\n",
       "    </tr>\n",
       "    <tr>\n",
       "      <th>5</th>\n",
       "      <td>7.362296</td>\n",
       "      <td>-97441.886185</td>\n",
       "    </tr>\n",
       "    <tr>\n",
       "      <th>6</th>\n",
       "      <td>7.422006</td>\n",
       "      <td>-98232.169948</td>\n",
       "    </tr>\n",
       "    <tr>\n",
       "      <th>7</th>\n",
       "      <td>7.457196</td>\n",
       "      <td>-98697.916632</td>\n",
       "    </tr>\n",
       "    <tr>\n",
       "      <th>8</th>\n",
       "      <td>7.486542</td>\n",
       "      <td>-99086.314325</td>\n",
       "    </tr>\n",
       "  </tbody>\n",
       "</table>\n",
       "</div>"
      ],
      "text/plain": [
       "          0             1\n",
       "0  0.000000     -0.000000\n",
       "1  6.697548 -88643.779570\n",
       "2  6.936855 -91811.063263\n",
       "3  7.107003 -94063.026613\n",
       "4  7.301402 -96635.945836\n",
       "5  7.362296 -97441.886185\n",
       "6  7.422006 -98232.169948\n",
       "7  7.457196 -98697.916632\n",
       "8  7.486542 -99086.314325"
      ]
     },
     "metadata": {},
     "output_type": "display_data"
    },
    {
     "name": "stdout",
     "output_type": "stream",
     "text": [
      "vecFromFirstParallel: np.outer(scalarProduct, lineVecNorm)\n"
     ]
    },
    {
     "data": {
      "text/html": [
       "<div>\n",
       "<style>\n",
       "    .dataframe thead tr:only-child th {\n",
       "        text-align: right;\n",
       "    }\n",
       "\n",
       "    .dataframe thead th {\n",
       "        text-align: left;\n",
       "    }\n",
       "\n",
       "    .dataframe tbody tr th {\n",
       "        vertical-align: top;\n",
       "    }\n",
       "</style>\n",
       "<table border=\"1\" class=\"dataframe\">\n",
       "  <thead>\n",
       "    <tr style=\"text-align: right;\">\n",
       "      <th></th>\n",
       "      <th>0</th>\n",
       "      <th>1</th>\n",
       "    </tr>\n",
       "  </thead>\n",
       "  <tbody>\n",
       "    <tr>\n",
       "      <th>0</th>\n",
       "      <td>0.000000</td>\n",
       "      <td>0.000000</td>\n",
       "    </tr>\n",
       "    <tr>\n",
       "      <th>1</th>\n",
       "      <td>-5.697548</td>\n",
       "      <td>-0.000430</td>\n",
       "    </tr>\n",
       "    <tr>\n",
       "      <th>2</th>\n",
       "      <td>-4.936855</td>\n",
       "      <td>-0.000373</td>\n",
       "    </tr>\n",
       "    <tr>\n",
       "      <th>3</th>\n",
       "      <td>-4.107003</td>\n",
       "      <td>-0.000310</td>\n",
       "    </tr>\n",
       "    <tr>\n",
       "      <th>4</th>\n",
       "      <td>-3.301402</td>\n",
       "      <td>-0.000249</td>\n",
       "    </tr>\n",
       "    <tr>\n",
       "      <th>5</th>\n",
       "      <td>-2.362296</td>\n",
       "      <td>-0.000178</td>\n",
       "    </tr>\n",
       "    <tr>\n",
       "      <th>6</th>\n",
       "      <td>-1.422006</td>\n",
       "      <td>-0.000107</td>\n",
       "    </tr>\n",
       "    <tr>\n",
       "      <th>7</th>\n",
       "      <td>-0.457196</td>\n",
       "      <td>-0.000035</td>\n",
       "    </tr>\n",
       "    <tr>\n",
       "      <th>8</th>\n",
       "      <td>0.513458</td>\n",
       "      <td>0.000039</td>\n",
       "    </tr>\n",
       "  </tbody>\n",
       "</table>\n",
       "</div>"
      ],
      "text/plain": [
       "          0         1\n",
       "0  0.000000  0.000000\n",
       "1 -5.697548 -0.000430\n",
       "2 -4.936855 -0.000373\n",
       "3 -4.107003 -0.000310\n",
       "4 -3.301402 -0.000249\n",
       "5 -2.362296 -0.000178\n",
       "6 -1.422006 -0.000107\n",
       "7 -0.457196 -0.000035\n",
       "8  0.513458  0.000039"
      ]
     },
     "metadata": {},
     "output_type": "display_data"
    },
    {
     "name": "stdout",
     "output_type": "stream",
     "text": [
      "vecToLine: vecFromFirst - vecFromFirstParallel\n"
     ]
    }
   ],
   "source": [
    "display(pd.DataFrame(vecFromFirstParallel))\n",
    "print('vecFromFirstParallel: np.outer(scalarProduct, lineVecNorm)')\n",
    "display(pd.DataFrame(vecToLine))\n",
    "print('vecToLine: vecFromFirst - vecFromFirstParallel')"
   ]
  },
  {
   "cell_type": "code",
   "execution_count": 234,
   "metadata": {},
   "outputs": [],
   "source": [
    "# distance to line is the norm of vecToLine\n",
    "distToLine = np.sqrt(np.sum(vecToLine ** 2, axis=1))"
   ]
  },
  {
   "cell_type": "markdown",
   "metadata": {},
   "source": [
    "Because we normalised the vector of the line from the first point to the last point before performing our calculations, we must now normalize the array of vectors from the points to the line. We do this by summing the first dimension of this array (summing each row), then square rooting this array. We perform 'np.sqrt' instead of the usual 'sqrt' because numpy functions are faster with arrays as arrays must always contain the same data type."
   ]
  },
  {
   "cell_type": "code",
   "execution_count": 235,
   "metadata": {},
   "outputs": [
    {
     "name": "stdout",
     "output_type": "stream",
     "text": [
      "Optimal K: 2\n"
     ]
    }
   ],
   "source": [
    "# now all we need is to find the maximum\n",
    "idxOfBestPoint = np.argmax(distToLine)\n",
    "\n",
    "print(\"Optimal K: {}\".format(idxOfBestPoint+1))"
   ]
  },
  {
   "cell_type": "markdown",
   "metadata": {},
   "source": [
    "Now we find the index of the largest value in the array 'distToLine'. Because we index the first point as zero, we add one to this index before printing it. As you can see, our algorithm returns the optimal number of clusters for k-means clustering as 2, which is what we expected, as we created two very obvious clusters, and the 'elbow' on the inertia curve is quite obviously at 2."
   ]
  },
  {
   "cell_type": "code",
   "execution_count": null,
   "metadata": {},
   "outputs": [],
   "source": []
  }
 ],
 "metadata": {
  "kernelspec": {
   "display_name": "Python 3",
   "language": "python",
   "name": "python3"
  },
  "language_info": {
   "codemirror_mode": {
    "name": "ipython",
    "version": 3
   },
   "file_extension": ".py",
   "mimetype": "text/x-python",
   "name": "python",
   "nbconvert_exporter": "python",
   "pygments_lexer": "ipython3",
   "version": "3.6.2"
  }
 },
 "nbformat": 4,
 "nbformat_minor": 2
}
